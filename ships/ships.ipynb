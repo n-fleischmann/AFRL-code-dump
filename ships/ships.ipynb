{
 "cells": [
  {
   "cell_type": "code",
   "execution_count": 1,
   "metadata": {},
   "outputs": [],
   "source": [
    "import os\n",
    "from os.path import join as j\n",
    "import xml.etree.ElementTree as ET\n",
    "\n",
    "import matplotlib.pyplot as plt\n",
    "%matplotlib inline\n"
   ]
  },
  {
   "cell_type": "code",
   "execution_count": 2,
   "metadata": {},
   "outputs": [],
   "source": [
    "VOC = '/data/ships/ShipRSImageNet_V1/VOC_Format/'\n",
    "anno_folder = j(VOC, 'Annotations')\n",
    "img_folder = j(VOC, 'JPEGImages')"
   ]
  },
  {
   "cell_type": "code",
   "execution_count": 3,
   "metadata": {},
   "outputs": [],
   "source": [
    "test = os.listdir(anno_folder)[1]\n",
    "\n",
    "tree = ET.parse(j(anno_folder, test))"
   ]
  },
  {
   "cell_type": "code",
   "execution_count": 4,
   "metadata": {},
   "outputs": [],
   "source": [
    "root = tree.getroot()"
   ]
  },
  {
   "cell_type": "code",
   "execution_count": null,
   "metadata": {},
   "outputs": [],
   "source": [
    "\n",
    "\n"
   ]
  },
  {
   "cell_type": "code",
   "execution_count": 13,
   "metadata": {},
   "outputs": [],
   "source": [
    "from anytree import Node, RenderTree\n",
    "\n",
    "root_node = Node(['root', 0]) \n",
    "all_nodes = {\n",
    "    0: {},\n",
    "    1: {},\n",
    "    2: {},\n",
    "    3: {},\n",
    "}"
   ]
  },
  {
   "cell_type": "code",
   "execution_count": 14,
   "metadata": {},
   "outputs": [],
   "source": [
    "levels = [0, 1, 2, 3]\n",
    "n_ships = 0\n",
    "\n",
    "for file in os.listdir(anno_folder):\n",
    "    root = ET.parse(j(anno_folder, file)).getroot()\n",
    "    for child in root:\n",
    "        if child.tag == 'object':\n",
    "            n_ships += 1\n",
    "            \n",
    "            name = child.find('name').text\n",
    "            \n",
    "            level_nums = []\n",
    "            for level in levels:\n",
    "                num = child.find(f'level_{level}').text\n",
    "                if level == levels[-1]: num = (num, name)\n",
    "                level_nums.append(num)\n",
    "            \n",
    "            # tmp = all_nodes[0].get(level_nums[0], None) or Node([level_nums[0], 0], parent=root_node)\n",
    "            # tmp.name[1] += 1\n",
    "            # all_nodes[0][level_nums[0]] = tmp\n",
    "\n",
    "            for level in levels:\n",
    "                parent = root_node\n",
    "\n",
    "                if level != 0:\n",
    "                    parent=all_nodes[level-1][level_nums[level - 1]]\n",
    "                \n",
    "                tmp = all_nodes[level].get(level_nums[level], None) or Node([level_nums[level], 0], parent=parent)\n",
    "                tmp.name[1] += 1\n",
    "                all_nodes[level][level_nums[level]] = tmp\n",
    "\n",
    "\n",
    "\n"
   ]
  },
  {
   "cell_type": "code",
   "execution_count": 15,
   "metadata": {},
   "outputs": [
    {
     "data": {
      "text/plain": [
       "13963"
      ]
     },
     "execution_count": 15,
     "metadata": {},
     "output_type": "execute_result"
    }
   ],
   "source": [
    "n_ships"
   ]
  },
  {
   "cell_type": "code",
   "execution_count": 16,
   "metadata": {},
   "outputs": [
    {
     "name": "stdout",
     "output_type": "stream",
     "text": [
      "['root', 0]\n",
      "├── ['1', 13065]\n",
      "│   ├── ['2', 5858]\n",
      "│   │   ├── ['5', 335]\n",
      "│   │   │   └── [('8', 'Ticonderoga'), 335]\n",
      "│   │   ├── ['11', 394]\n",
      "│   │   │   ├── [('29', 'Other Auxiliary Ship'), 78]\n",
      "│   │   │   ├── [('33', 'AOE'), 48]\n",
      "│   │   │   ├── [('34', 'Masyuu AS'), 36]\n",
      "│   │   │   ├── [('35', 'Sanantonio AS'), 61]\n",
      "│   │   │   ├── [('32', 'Training Ship'), 42]\n",
      "│   │   │   ├── [('36', 'EPF'), 52]\n",
      "│   │   │   ├── [('30', 'Medical Ship'), 27]\n",
      "│   │   │   └── [('31', 'Test Ship'), 50]\n",
      "│   │   ├── ['2', 1171]\n",
      "│   │   │   └── [('2', 'Other Warship'), 1171]\n",
      "│   │   ├── ['8', 139]\n",
      "│   │   │   └── [('17', 'Patrol'), 139]\n",
      "│   │   ├── ['6', 1209]\n",
      "│   │   │   ├── [('9', 'Other Destroyer'), 217]\n",
      "│   │   │   ├── [('12', 'Hatsuyuki DD'), 110]\n",
      "│   │   │   ├── [('10', 'Atago DD'), 208]\n",
      "│   │   │   ├── [('11', 'Arleigh Burke DD'), 526]\n",
      "│   │   │   ├── [('14', 'Asagiri DD'), 62]\n",
      "│   │   │   └── [('13', 'Hyuga DD'), 86]\n",
      "│   │   ├── ['3', 837]\n",
      "│   │   │   └── [('3', 'Submarine'), 837]\n",
      "│   │   ├── ['10', 120]\n",
      "│   │   │   └── [('28', 'Commander'), 120]\n",
      "│   │   ├── ['7', 668]\n",
      "│   │   │   ├── [('16', 'Perry FF'), 500]\n",
      "│   │   │   └── [('15', 'Other Frigate'), 168]\n",
      "│   │   ├── ['9', 743]\n",
      "│   │   │   ├── [('25', 'Wasp LL'), 20]\n",
      "│   │   │   ├── [('26', 'LSD 41 LL'), 116]\n",
      "│   │   │   ├── [('23', 'Austin LL'), 103]\n",
      "│   │   │   ├── [('24', 'Osumi LL'), 34]\n",
      "│   │   │   ├── [('27', 'LHA LL'), 157]\n",
      "│   │   │   ├── [('18', 'Other Landing'), 87]\n",
      "│   │   │   ├── [('22', 'YuZhao LL'), 37]\n",
      "│   │   │   ├── [('19', 'YuTing LL'), 80]\n",
      "│   │   │   ├── [('20', 'YuDeng LL'), 64]\n",
      "│   │   │   └── [('21', 'YuDao LL'), 45]\n",
      "│   │   └── ['4', 242]\n",
      "│   │       ├── [('5', 'Enterprise'), 87]\n",
      "│   │       ├── [('6', 'Nimitz'), 103]\n",
      "│   │       ├── [('7', 'Midway'), 18]\n",
      "│   │       └── [('4', 'Other Aircraft Carrier'), 34]\n",
      "│   ├── ['3', 5860]\n",
      "│   │   ├── ['15', 826]\n",
      "│   │   │   └── [('40', 'Cargo'), 826]\n",
      "│   │   ├── ['14', 127]\n",
      "│   │   │   └── [('39', 'RoRo'), 127]\n",
      "│   │   ├── ['16', 183]\n",
      "│   │   │   └── [('41', 'Barge'), 183]\n",
      "│   │   ├── ['18', 244]\n",
      "│   │   │   └── [('43', 'Ferry'), 244]\n",
      "│   │   ├── ['21', 417]\n",
      "│   │   │   └── [('46', 'Fishing Vessel'), 417]\n",
      "│   │   ├── ['24', 1588]\n",
      "│   │   │   └── [('49', 'Motorboat'), 1588]\n",
      "│   │   ├── ['19', 641]\n",
      "│   │   │   └── [('44', 'Yacht'), 641]\n",
      "│   │   ├── ['22', 161]\n",
      "│   │   │   └── [('47', 'Oil Tanker'), 161]\n",
      "│   │   ├── ['23', 260]\n",
      "│   │   │   └── [('48', 'Hovercraft'), 260]\n",
      "│   │   ├── ['20', 666]\n",
      "│   │   │   └── [('45', 'Sailboat'), 666]\n",
      "│   │   ├── ['17', 243]\n",
      "│   │   │   └── [('42', 'Tugboat'), 243]\n",
      "│   │   ├── ['13', 304]\n",
      "│   │   │   └── [('38', 'Container Ship'), 304]\n",
      "│   │   └── ['12', 200]\n",
      "│   │       └── [('37', 'Other Merchant'), 200]\n",
      "│   └── ['1', 1347]\n",
      "│       └── ['1', 1347]\n",
      "│           └── [('1', 'Other Ship'), 1347]\n",
      "└── ['2', 898]\n",
      "    └── ['4', 898]\n",
      "        └── ['25', 898]\n",
      "            └── [('50', 'Dock'), 898]\n"
     ]
    }
   ],
   "source": [
    "for pre, fill, node in RenderTree(root_node):\n",
    "    print(\"%s%s\" % (pre, node.name))"
   ]
  },
  {
   "cell_type": "code",
   "execution_count": 30,
   "metadata": {},
   "outputs": [
    {
     "data": {
      "text/plain": [
       "<matplotlib.image.AxesImage at 0x7f9b66e655b0>"
      ]
     },
     "execution_count": 30,
     "metadata": {},
     "output_type": "execute_result"
    },
    {
     "data": {
      "image/png": "[encoded data removed]",
      "text/plain": [
       "<Figure size 432x288 with 1 Axes>"
      ]
     },
     "metadata": {
      "needs_background": "light"
     },
     "output_type": "display_data"
    }
   ],
   "source": [
    "from PIL import Image\n",
    "\n",
    "im = Image.open(j(img_folder, f\"{test[:-4]}.bmp\"))\n",
    "\n",
    "plt.imshow(im)"
   ]
  },
  {
   "cell_type": "code",
   "execution_count": 4,
   "metadata": {},
   "outputs": [
    {
     "data": {
      "text/plain": [
       "{'test1': 'a'}"
      ]
     },
     "execution_count": 4,
     "metadata": {},
     "output_type": "execute_result"
    }
   ],
   "source": [
    "d = {'test1': 'a'}\n",
    "\n",
    "d['test1'] = d.get('test1', None) or 'b'\n",
    "d"
   ]
  },
  {
   "cell_type": "code",
   "execution_count": 27,
   "metadata": {},
   "outputs": [
    {
     "data": {
      "text/plain": [
       "'root'"
      ]
     },
     "execution_count": 27,
     "metadata": {},
     "output_type": "execute_result"
    }
   ],
   "source": [
    "root_node.name"
   ]
  },
  {
   "cell_type": "code",
   "execution_count": 22,
   "metadata": {},
   "outputs": [
    {
     "name": "stdout",
     "output_type": "stream",
     "text": [
      "5266\n",
      "2634\n",
      "2100\n",
      "==========\n",
      "5334\n",
      "2666\n",
      "2000\n",
      "==========\n",
      "5201\n",
      "2599\n",
      "2200\n",
      "==========\n",
      "5334\n",
      "2666\n",
      "2000\n",
      "==========\n"
     ]
    }
   ],
   "source": [
    "for split in [1, 2, 3, 4]:\n",
    "    start = f'/data/fgvc_aircraft/fgvc-aircraft-2013b/data/splits/split{split}/'\n",
    "    id_train = start + 'ID_trainset.txt'\n",
    "    id_test = start + \"ID_testset.txt\"\n",
    "    ood_test = start + \"OOD_testset.txt\"\n",
    "\n",
    "    with open(id_train, 'r') as infile:\n",
    "        print(len(infile.readlines()))\n",
    "\n",
    "    with open(id_test, 'r') as infile:\n",
    "        print(len(infile.readlines()))\n",
    "\n",
    "    with open(ood_test, 'r') as infile:\n",
    "        print(len(infile.readlines()))\n",
    "\n",
    "    print(\"=\"*10)\n",
    "\n"
   ]
  },
  {
   "cell_type": "code",
   "execution_count": 19,
   "metadata": {},
   "outputs": [
    {
     "data": {
      "text/plain": [
       "3250.0"
      ]
     },
     "execution_count": 19,
     "metadata": {},
     "output_type": "execute_result"
    }
   ],
   "source": [
    "13000/4"
   ]
  },
  {
   "cell_type": "code",
   "execution_count": 23,
   "metadata": {},
   "outputs": [],
   "source": [
    "from glob import glob\n"
   ]
  },
  {
   "cell_type": "code",
   "execution_count": 25,
   "metadata": {},
   "outputs": [
    {
     "data": {
      "text/plain": [
       "['/data/ships/nate/ShipRSImageNet/VOC_Format/chips/004089_obj6_Yacht.jpg',\n",
       " '/data/ships/nate/ShipRSImageNet/VOC_Format/chips/004089_obj3_Yacht.jpg',\n",
       " '/data/ships/nate/ShipRSImageNet/VOC_Format/chips/004089_obj0_Motorboat.jpg',\n",
       " '/data/ships/nate/ShipRSImageNet/VOC_Format/chips/004089_obj5_Yacht.jpg',\n",
       " '/data/ships/nate/ShipRSImageNet/VOC_Format/chips/004089_obj2_Dock.jpg',\n",
       " '/data/ships/nate/ShipRSImageNet/VOC_Format/chips/004089_obj1_Dock.jpg',\n",
       " '/data/ships/nate/ShipRSImageNet/VOC_Format/chips/004089_obj7_Cargo.jpg',\n",
       " '/data/ships/nate/ShipRSImageNet/VOC_Format/chips/004089_obj4_Yacht.jpg']"
      ]
     },
     "execution_count": 25,
     "metadata": {},
     "output_type": "execute_result"
    }
   ],
   "source": [
    "glob(\"/data/ships/nate/ShipRSImageNet/VOC_Format/chips/004089_*\")"
   ]
  },
  {
   "cell_type": "code",
   "execution_count": 36,
   "metadata": {},
   "outputs": [
    {
     "name": "stdout",
     "output_type": "stream",
     "text": [
      "10860\n",
      "3103\n"
     ]
    }
   ],
   "source": [
    "import re\n",
    "\n",
    "root_dir = '/data/ships/nate/ShipRSImageNet/VOC_Format/'\n",
    "chips = root_dir + \"chips/\"\n",
    "\n",
    "with open(root_dir + 'ImageSets/train.txt', 'r') as infile:\n",
    "    n = 0\n",
    "    for line in infile.readlines():\n",
    "        line, _ = os.path.splitext(line.strip())\n",
    "        matching_chips = [f for f in os.listdir(chips) if re.match(fr\"{line}_*\", f)]\n",
    "        n += len(matching_chips)\n",
    "    print(n)\n",
    "\n",
    "with open(root_dir + 'ImageSets/val.txt', 'r') as infile:\n",
    "    n = 0\n",
    "    for line in infile.readlines():\n",
    "        line, _ = os.path.splitext(line.strip())\n",
    "        matching_chips = [f for f in os.listdir(chips) if re.match(fr\"{line}_*\", f)]\n",
    "        n += len(matching_chips)\n",
    "    print(n)"
   ]
  },
  {
   "cell_type": "code",
   "execution_count": 39,
   "metadata": {},
   "outputs": [],
   "source": [
    "variants_file = os.path.join(root_dir, 'variants.txt')\n",
    "\n",
    "\n",
    "names_to_class = {}\n",
    "with open(variants_file, 'r') as variants_file:\n",
    "    lines = variants_file.readlines()\n",
    "    for line in lines:\n",
    "        line = line.rstrip().split(' ')\n",
    "        names_to_class[\"\".join(line[:-1])] = int(line[-1])\n",
    "    "
   ]
  },
  {
   "cell_type": "code",
   "execution_count": 52,
   "metadata": {},
   "outputs": [],
   "source": [
    "to_remove = [4, 5, 6]\n",
    "s = set(names_to_class.values()) - set(to_remove)\n",
    "seen = {0}\n"
   ]
  },
  {
   "cell_type": "code",
   "execution_count": 49,
   "metadata": {},
   "outputs": [
    {
     "data": {
      "text/plain": [
       "{1, 2, 3, 7, 8, 9, 10, 11, 12, 13, 14, 15, 16, 17, 18, 19, 20, 21, 22, 23, 24}"
      ]
     },
     "execution_count": 49,
     "metadata": {},
     "output_type": "execute_result"
    }
   ],
   "source": [
    "s"
   ]
  },
  {
   "cell_type": "code",
   "execution_count": 55,
   "metadata": {},
   "outputs": [
    {
     "data": {
      "text/plain": [
       "{1: 1,\n",
       " 2: 2,\n",
       " 3: 3,\n",
       " 7: 4,\n",
       " 8: 5,\n",
       " 9: 6,\n",
       " 10: 7,\n",
       " 11: 8,\n",
       " 12: 9,\n",
       " 13: 10,\n",
       " 14: 11,\n",
       " 15: 12,\n",
       " 16: 13,\n",
       " 17: 14,\n",
       " 18: 15,\n",
       " 19: 16,\n",
       " 20: 17,\n",
       " 21: 18,\n",
       " 22: 19,\n",
       " 23: 20,\n",
       " 24: 21}"
      ]
     },
     "execution_count": 55,
     "metadata": {},
     "output_type": "execute_result"
    }
   ],
   "source": [
    "ret = {}\n",
    "for item in sorted(list(s)):\n",
    "    ret[item] = max(seen) + 1\n",
    "    seen.add(max(seen) + 1)\n",
    "\n",
    "ret"
   ]
  },
  {
   "cell_type": "code",
   "execution_count": 53,
   "metadata": {},
   "outputs": [
    {
     "data": {
      "text/plain": [
       "[1, 2, 3, 7, 8, 9, 10, 11, 12, 13, 14, 15, 16, 17, 18, 19, 20, 21, 22, 23, 24]"
      ]
     },
     "execution_count": 53,
     "metadata": {},
     "output_type": "execute_result"
    }
   ],
   "source": [
    "sorted(list(s))"
   ]
  },
  {
   "cell_type": "code",
   "execution_count": 3,
   "metadata": {},
   "outputs": [
    {
     "ename": "ImportError",
     "evalue": "attempted relative import with no known parent package",
     "output_type": "error",
     "traceback": [
      "\u001b[0;31m---------------------------------------------------------------------------\u001b[0m",
      "\u001b[0;31mImportError\u001b[0m                               Traceback (most recent call last)",
      "\u001b[1;32m/home/noah2/work/planes/ships/ships.ipynb Cell 23\u001b[0m in \u001b[0;36m<cell line: 1>\u001b[0;34m()\u001b[0m\n\u001b[0;32m----> <a href='vscode-notebook-cell://ssh-remote%2B192.168.50.54/home/noah2/work/planes/ships/ships.ipynb#X31sdnNjb2RlLXJlbW90ZQ%3D%3D?line=0'>1</a>\u001b[0m \u001b[39mfrom\u001b[39;00m \u001b[39m.\u001b[39;00m\u001b[39mplanes\u001b[39;00m\u001b[39m.\u001b[39;00m\u001b[39mdata\u001b[39;00m \u001b[39mimport\u001b[39;00m combined_loader\n",
      "\u001b[0;31mImportError\u001b[0m: attempted relative import with no known parent package"
     ]
    }
   ],
   "source": []
  },
  {
   "cell_type": "code",
   "execution_count": null,
   "metadata": {},
   "outputs": [],
   "source": []
  }
 ],
 "metadata": {
  "kernelspec": {
   "display_name": "Python 3.8.13 ('torch')",
   "language": "python",
   "name": "python3"
  },
  "language_info": {
   "codemirror_mode": {
    "name": "ipython",
    "version": 3
   },
   "file_extension": ".py",
   "mimetype": "text/x-python",
   "name": "python",
   "nbconvert_exporter": "python",
   "pygments_lexer": "ipython3",
   "version": "3.8.13"
  },
  "orig_nbformat": 4,
  "vscode": {
   "interpreter": {
    "hash": "67032af068fc7a9a75af5e689374c1912ed9b16582316a9cf18d7392c62741cb"
   }
  }
 },
 "nbformat": 4,
 "nbformat_minor": 2
}
